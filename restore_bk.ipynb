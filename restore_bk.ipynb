{
 "cells": [
  {
   "cell_type": "code",
   "execution_count": 33,
   "metadata": {},
   "outputs": [],
   "source": [
    "import fastavro\n",
    "from sqlalchemy import create_engine, MetaData, Table, select, Column,Integer, String\n",
    "import datetime"
   ]
  },
  {
   "cell_type": "code",
   "execution_count": 34,
   "metadata": {},
   "outputs": [],
   "source": [
    "date_backup=datetime.datetime.now().strftime(\"%Y%m%d_%H%M%S\")\n",
    "engine = create_engine('mysql+pymysql://root@localhost/flaskmysql')\n",
    "metadata = MetaData()\n",
    "table = Table('jobs', metadata,\n",
    "    Column('id', Integer, primary_key=True),\n",
    "    Column('job', String(100)),\n",
    ")\n"
   ]
  },
  {
   "cell_type": "code",
   "execution_count": 35,
   "metadata": {},
   "outputs": [],
   "source": [
    "metadata.create_all(engine)\n",
    "query = table.insert()"
   ]
  },
  {
   "cell_type": "code",
   "execution_count": 36,
   "metadata": {},
   "outputs": [
    {
     "name": "stdout",
     "output_type": "stream",
     "text": [
      "INSERT INTO jobs (id, job) VALUES (:id, :job)\n"
     ]
    }
   ],
   "source": [
    "print(query)"
   ]
  },
  {
   "cell_type": "code",
   "execution_count": 37,
   "metadata": {},
   "outputs": [],
   "source": [
    "with open('jobs.avro', 'rb') as f:\n",
    "    schema = {\n",
    "        'type': 'record',\n",
    "        'name': 'Job',\n",
    "        'fields': [\n",
    "            {'name': 'id', 'type': 'int'},\n",
    "            {'name': 'job', 'type': 'string'},\n",
    "        ]\n",
    "    }\n",
    "    with engine.begin() as conn:\n",
    "        for record in fastavro.reader(f, schema):\n",
    "            conn.execute(query, record)"
   ]
  },
  {
   "cell_type": "code",
   "execution_count": null,
   "metadata": {},
   "outputs": [],
   "source": []
  }
 ],
 "metadata": {
  "kernelspec": {
   "display_name": "venv",
   "language": "python",
   "name": "python3"
  },
  "language_info": {
   "codemirror_mode": {
    "name": "ipython",
    "version": 3
   },
   "file_extension": ".py",
   "mimetype": "text/x-python",
   "name": "python",
   "nbconvert_exporter": "python",
   "pygments_lexer": "ipython3",
   "version": "3.11.0"
  },
  "orig_nbformat": 4
 },
 "nbformat": 4,
 "nbformat_minor": 2
}
