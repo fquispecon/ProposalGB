{
 "cells": [
  {
   "cell_type": "code",
   "execution_count": 1,
   "metadata": {},
   "outputs": [],
   "source": [
    "import fastavro\n",
    "from sqlalchemy import create_engine, MetaData, Table, select\n",
    "import datetime"
   ]
  },
  {
   "cell_type": "code",
   "execution_count": 3,
   "metadata": {},
   "outputs": [],
   "source": [
    "date_backup=datetime.datetime.now().strftime(\"%Y%m%d_%H%M%S\")\n",
    "engine = create_engine('mysql+pymysql://root@localhost/flaskmysql')\n",
    "metadata = MetaData()\n",
    "table = Table('jobs', metadata, autoload_with=engine)\n",
    "query = select(table)"
   ]
  },
  {
   "cell_type": "code",
   "execution_count": 5,
   "metadata": {},
   "outputs": [],
   "source": [
    "with engine.connect() as conn, open('jobs.avro'+date_backup, 'wb') as out:\n",
    "    result = conn.execute(query)\n",
    "    schema = {\n",
    "    'type': 'record',\n",
    "    'name': 'Job',\n",
    "    'fields': [\n",
    "        {'name': 'id', 'type': 'int'},\n",
    "        {'name': 'job', 'type': 'string'},\n",
    "    ],\n",
    "    }\n",
    "    results_as_dict = result.mappings().all()\n",
    "    fastavro.writer(out, schema, results_as_dict)"
   ]
  }
 ],
 "metadata": {
  "kernelspec": {
   "display_name": "venv",
   "language": "python",
   "name": "python3"
  },
  "language_info": {
   "codemirror_mode": {
    "name": "ipython",
    "version": 3
   },
   "file_extension": ".py",
   "mimetype": "text/x-python",
   "name": "python",
   "nbconvert_exporter": "python",
   "pygments_lexer": "ipython3",
   "version": "3.11.0"
  },
  "orig_nbformat": 4
 },
 "nbformat": 4,
 "nbformat_minor": 2
}
