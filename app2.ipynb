{
 "cells": [
  {
   "cell_type": "code",
   "execution_count": 1,
   "metadata": {},
   "outputs": [],
   "source": [
    "from flask import Flask, request, jsonify\n",
    "from flask_sqlalchemy import SQLAlchemy\n",
    "from flask_marshmallow import Marshmallow\n",
    "import pandas as pd\n"
   ]
  },
  {
   "cell_type": "code",
   "execution_count": 2,
   "metadata": {},
   "outputs": [],
   "source": [
    "app = Flask(__name__)\n",
    "app.config['SQLALCHEMY_DATABASE_URI']='mysql+pymysql://root@localhost/flaskmysql'\n",
    "app.config['SQLALCHEMY_TRACK_MODIFICATIONS']=False\n"
   ]
  },
  {
   "cell_type": "code",
   "execution_count": 3,
   "metadata": {},
   "outputs": [],
   "source": [
    "db=SQLAlchemy(app)\n",
    "ma=Marshmallow(app)"
   ]
  },
  {
   "cell_type": "code",
   "execution_count": 4,
   "metadata": {},
   "outputs": [],
   "source": [
    "class Departments(db.Model):\n",
    "    id = db.Column(db.Integer, primary_key=True)\n",
    "    department=db.Column(db.String(100),unique=True)\n",
    "\n",
    "    def __init__(self,id,department):\n",
    "        self.id=id\n",
    "        self.department=department"
   ]
  },
  {
   "cell_type": "code",
   "execution_count": 5,
   "metadata": {},
   "outputs": [],
   "source": [
    "class Hired(db.Model):\n",
    "    id = db.Column(db.Integer, primary_key=True)\n",
    "    name=db.Column(db.String(100))\n",
    "    datetime=db.Column(db.String(100))\n",
    "    department_id=db.Column(db.Integer)\n",
    "    job_id=db.Column(db.Integer)\n",
    "    \n",
    "    def __init__(self,id,name,datetime,department_id,job_id):\n",
    "        self.id=id\n",
    "        self.name=name\n",
    "        self.datetime=datetime\n",
    "        self.department_id=department_id\n",
    "        self.job_id=job_id"
   ]
  },
  {
   "cell_type": "code",
   "execution_count": 6,
   "metadata": {},
   "outputs": [],
   "source": [
    "class Jobs(db.Model):\n",
    "    id = db.Column(db.Integer, primary_key=True)\n",
    "    job=db.Column(db.String(100),unique=True)\n",
    "\n",
    "    def __init__(self,id,job):\n",
    "        self.id=id\n",
    "        self.job=job"
   ]
  },
  {
   "cell_type": "code",
   "execution_count": 7,
   "metadata": {},
   "outputs": [],
   "source": [
    "with app.app_context():\n",
    "    db.create_all()"
   ]
  },
  {
   "cell_type": "code",
   "execution_count": 8,
   "metadata": {},
   "outputs": [],
   "source": [
    "Department_columns=['id', 'department']\n",
    "Hired_columns=['id', 'name', 'datetime', 'department_id', 'job_id']\n",
    "Jobs_columns=['id', 'job']"
   ]
  },
  {
   "cell_type": "code",
   "execution_count": 9,
   "metadata": {},
   "outputs": [],
   "source": [
    "def csv_loader(file_path,class_value,columns_list):\n",
    "    df = pd.read_csv(file_path,header=None,names=columns_list)\n",
    "    df = df.fillna('')\n",
    "    data = df.to_dict(orient='records')\n",
    "    for row in data:\n",
    "        task = class_value(**row)\n",
    "        db.session.add(task)\n",
    "    db.session.commit()\n",
    "    return 'loaded success'"
   ]
  },
  {
   "cell_type": "code",
   "execution_count": 11,
   "metadata": {},
   "outputs": [],
   "source": [
    "with app.app_context():\n",
    "    #csv_loader('files/departments.csv',Departments,Department_columns)\n",
    "    #csv_loader('files/hired_employees.csv',Hired,Hired_columns)\n",
    "    csv_loader('files/jobs.csv',Jobs,Jobs_columns)"
   ]
  },
  {
   "cell_type": "code",
   "execution_count": null,
   "metadata": {},
   "outputs": [],
   "source": []
  }
 ],
 "metadata": {
  "kernelspec": {
   "display_name": "venv",
   "language": "python",
   "name": "python3"
  },
  "language_info": {
   "codemirror_mode": {
    "name": "ipython",
    "version": 3
   },
   "file_extension": ".py",
   "mimetype": "text/x-python",
   "name": "python",
   "nbconvert_exporter": "python",
   "pygments_lexer": "ipython3",
   "version": "3.11.0"
  },
  "orig_nbformat": 4
 },
 "nbformat": 4,
 "nbformat_minor": 2
}
