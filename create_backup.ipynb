{
 "cells": [
  {
   "cell_type": "code",
   "execution_count": 1,
   "metadata": {},
   "outputs": [],
   "source": [
    "import fastavro\n",
    "from sqlalchemy import create_engine, MetaData, Table, select\n",
    "import datetime"
   ]
  },
  {
   "cell_type": "code",
   "execution_count": 7,
   "metadata": {},
   "outputs": [],
   "source": [
    "date_backup=datetime.datetime.now().strftime(\"%Y%m%d_%H%M%S\")\n",
    "engine = create_engine('mysql+pymysql://root@localhost/flaskmysql')\n",
    "metadata = MetaData()\n"
   ]
  },
  {
   "attachments": {},
   "cell_type": "markdown",
   "metadata": {},
   "source": [
    "BACKUP JOB"
   ]
  },
  {
   "cell_type": "code",
   "execution_count": 3,
   "metadata": {},
   "outputs": [
    {
     "ename": "NameError",
     "evalue": "name 'metadata' is not defined",
     "output_type": "error",
     "traceback": [
      "\u001b[1;31m---------------------------------------------------------------------------\u001b[0m",
      "\u001b[1;31mNameError\u001b[0m                                 Traceback (most recent call last)",
      "Cell \u001b[1;32mIn[3], line 1\u001b[0m\n\u001b[1;32m----> 1\u001b[0m table \u001b[39m=\u001b[39m Table(\u001b[39m'\u001b[39m\u001b[39mjobs\u001b[39m\u001b[39m'\u001b[39m, metadata, autoload_with\u001b[39m=\u001b[39mengine)\n\u001b[0;32m      2\u001b[0m query \u001b[39m=\u001b[39m select(table)\n\u001b[0;32m      4\u001b[0m \u001b[39mwith\u001b[39;00m engine\u001b[39m.\u001b[39mconnect() \u001b[39mas\u001b[39;00m conn, \u001b[39mopen\u001b[39m(\u001b[39m'\u001b[39m\u001b[39mjobs\u001b[39m\u001b[39m'\u001b[39m\u001b[39m+\u001b[39mdate_backup\u001b[39m+\u001b[39m\u001b[39m'\u001b[39m\u001b[39m.avro\u001b[39m\u001b[39m'\u001b[39m, \u001b[39m'\u001b[39m\u001b[39mwb\u001b[39m\u001b[39m'\u001b[39m) \u001b[39mas\u001b[39;00m out:\n",
      "\u001b[1;31mNameError\u001b[0m: name 'metadata' is not defined"
     ]
    }
   ],
   "source": [
    "table = Table('jobs', metadata, autoload_with=engine)\n",
    "query = select(table)\n",
    "\n",
    "with engine.connect() as conn, open('jobs'+date_backup+'.avro', 'wb') as out:\n",
    "    result = conn.execute(query)\n",
    "    schema = {\n",
    "    'type': 'record',\n",
    "    'name': 'Job',\n",
    "    'fields': [\n",
    "        {'name': 'id', 'type': 'int'},\n",
    "        {'name': 'job', 'type': 'string'},\n",
    "    ],\n",
    "    }\n",
    "    results_as_dict = result.mappings().all()\n",
    "    fastavro.writer(out, schema, results_as_dict)"
   ]
  },
  {
   "attachments": {},
   "cell_type": "markdown",
   "metadata": {},
   "source": [
    "BACKUP DEPARTMENTS"
   ]
  },
  {
   "cell_type": "code",
   "execution_count": null,
   "metadata": {},
   "outputs": [],
   "source": [
    "table = Table('departments', metadata, autoload_with=engine)\n",
    "query = select(table)\n",
    "\n",
    "with engine.connect() as conn, open('departments'+date_backup+'.avro', 'wb') as out:\n",
    "    result = conn.execute(query)\n",
    "    schema = {\n",
    "    'type': 'record',\n",
    "    'name': 'Departments',\n",
    "    'fields': [\n",
    "        {'name': 'id', 'type': 'int'},\n",
    "        {'name': 'department', 'type': 'string'},\n",
    "    ],\n",
    "    }\n",
    "    results_as_dict = result.mappings().all()\n",
    "    fastavro.writer(out, schema, results_as_dict)"
   ]
  },
  {
   "attachments": {},
   "cell_type": "markdown",
   "metadata": {},
   "source": [
    "BACKUP HIRE"
   ]
  },
  {
   "cell_type": "code",
   "execution_count": 2,
   "metadata": {},
   "outputs": [
    {
     "ename": "NameError",
     "evalue": "name 'metadata' is not defined",
     "output_type": "error",
     "traceback": [
      "\u001b[1;31m---------------------------------------------------------------------------\u001b[0m",
      "\u001b[1;31mNameError\u001b[0m                                 Traceback (most recent call last)",
      "Cell \u001b[1;32mIn[2], line 1\u001b[0m\n\u001b[1;32m----> 1\u001b[0m table \u001b[39m=\u001b[39m Table(\u001b[39m'\u001b[39m\u001b[39mhired\u001b[39m\u001b[39m'\u001b[39m, metadata, autoload_with\u001b[39m=\u001b[39mengine)\n\u001b[0;32m      2\u001b[0m query \u001b[39m=\u001b[39m select(table)\n\u001b[0;32m      4\u001b[0m \u001b[39mwith\u001b[39;00m engine\u001b[39m.\u001b[39mconnect() \u001b[39mas\u001b[39;00m conn, \u001b[39mopen\u001b[39m(\u001b[39m'\u001b[39m\u001b[39mhired\u001b[39m\u001b[39m'\u001b[39m\u001b[39m+\u001b[39mdate_backup\u001b[39m+\u001b[39m\u001b[39m'\u001b[39m\u001b[39m.avro\u001b[39m\u001b[39m'\u001b[39m, \u001b[39m'\u001b[39m\u001b[39mwb\u001b[39m\u001b[39m'\u001b[39m) \u001b[39mas\u001b[39;00m out:\n",
      "\u001b[1;31mNameError\u001b[0m: name 'metadata' is not defined"
     ]
    }
   ],
   "source": [
    "table = Table('hired', metadata, autoload_with=engine)\n",
    "query = select(table)\n",
    "\n",
    "with engine.connect() as conn, open('hired'+date_backup+'.avro', 'wb') as out:\n",
    "    result = conn.execute(query)\n",
    "    schema = {\n",
    "    'type': 'record',\n",
    "    'name': 'Hired',\n",
    "    'fields': [\n",
    "        {'name': 'id', 'type': 'int'},\n",
    "        {'name': 'name', 'type': 'string'},\n",
    "        {'name': 'datetime', 'type': 'string'},\n",
    "        {'name': 'department_id', 'type': 'int'},\n",
    "        {'name': 'job_id', 'type': 'int'},\n",
    "    ],\n",
    "    }\n",
    "    results_as_dict = result.mappings().all()\n",
    "    fastavro.writer(out, schema, results_as_dict)"
   ]
  }
 ],
 "metadata": {
  "kernelspec": {
   "display_name": "venv",
   "language": "python",
   "name": "python3"
  },
  "language_info": {
   "codemirror_mode": {
    "name": "ipython",
    "version": 3
   },
   "file_extension": ".py",
   "mimetype": "text/x-python",
   "name": "python",
   "nbconvert_exporter": "python",
   "pygments_lexer": "ipython3",
   "version": "3.11.0"
  },
  "orig_nbformat": 4
 },
 "nbformat": 4,
 "nbformat_minor": 2
}
